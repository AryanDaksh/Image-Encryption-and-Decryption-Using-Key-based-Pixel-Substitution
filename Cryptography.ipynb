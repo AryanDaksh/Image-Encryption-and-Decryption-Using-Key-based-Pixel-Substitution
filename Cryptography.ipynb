{
 "cells": [
  {
   "cell_type": "code",
   "execution_count": null,
   "metadata": {},
   "outputs": [],
   "source": [
    "import matplotlib.pyplot as plt,numpy as np,random\n",
    "from numpy import zeros\n",
    "\n",
    "img=plt.imread(r\"leaf.jpg\")\n",
    "#img=plt.imread(r\"tree.jpg\")\n",
    "\n",
    "rows=img.shape[0]\n",
    "col=img.shape[1]\n",
    "\n",
    "plt.title(\"Original Image\")\n",
    "plt.imshow(img)\n",
    "plt.show()"
   ]
  },
  {
   "cell_type": "code",
   "execution_count": 6,
   "metadata": {},
   "outputs": [],
   "source": [
    "key=[]\n",
    "while len(key)!=256:\n",
    "    j=random.randrange(0,256)\n",
    "    if j not in key:\n",
    "        key.append(j)"
   ]
  },
  {
   "cell_type": "code",
   "execution_count": null,
   "metadata": {},
   "outputs": [],
   "source": [
    "def encrypt_image(img, key, rows, col):\n",
    "    img1=np.zeros((rows,col,3),dtype=int)\n",
    "    for i in range(rows):\n",
    "        for j in range(col):\n",
    "            for k in range(3):\n",
    "                img1[i][j][k]=key[img[i][j][k]]\n",
    "    return img1\n",
    "\n",
    "img1=encrypt_image(img,key,rows,col)\n",
    "plt.title(\"Encrypted Image\")\n",
    "plt.imshow(img1)\n",
    "plt.show()"
   ]
  },
  {
   "cell_type": "code",
   "execution_count": null,
   "metadata": {},
   "outputs": [],
   "source": [
    "def decrypt_image(img,key, rows, col):\n",
    "    img1=np.zeros((rows,col,3),dtype=int)\n",
    "    for i in range(rows):\n",
    "        for j in range(col):\n",
    "            for k in range(3):\n",
    "                img1[i][j][k]=key.index(img[i][j][k])\n",
    "    return img1\n",
    "\n",
    "img3=decrypt_image(img1,key,rows,col)\n",
    "plt.title(\"Decrypted Image\")\n",
    "plt.imshow(img3)\n",
    "plt.show()"
   ]
  }
 ],
 "metadata": {
  "kernelspec": {
   "display_name": "Python 3",
   "language": "python",
   "name": "python3"
  },
  "language_info": {
   "codemirror_mode": {
    "name": "ipython",
    "version": 3
   },
   "file_extension": ".py",
   "mimetype": "text/x-python",
   "name": "python",
   "nbconvert_exporter": "python",
   "pygments_lexer": "ipython3",
   "version": "3.12.5"
  }
 },
 "nbformat": 4,
 "nbformat_minor": 2
}
